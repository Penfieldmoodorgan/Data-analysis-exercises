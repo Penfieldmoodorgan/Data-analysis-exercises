{
 "cells": [
  {
   "cell_type": "code",
   "execution_count": 1,
   "id": "4caf6569",
   "metadata": {},
   "outputs": [
    {
     "data": {
      "text/plain": [
       "'This program reads a dataset AFB.out, containing the cosine of polar angles with respect to the beam-line of 10^4 quark \\n    pairs, produced by an electron-positron collider.\\n    Using this data, applies Bayesian inference to obtain the value of the two free parameters in the expected angular \\n    distribution.'"
      ]
     },
     "execution_count": 1,
     "metadata": {},
     "output_type": "execute_result"
    }
   ],
   "source": [
    "'''This program reads a dataset AFB.out, containing the cosine of polar angles with respect to the beam-line of 10^4 quark \n",
    "    pairs, produced by an electron-positron collider.\n",
    "    Using this data, applies Bayesian inference to obtain the value of the two free parameters in the expected angular \n",
    "    distribution.'''"
   ]
  },
  {
   "cell_type": "code",
   "execution_count": 2,
   "id": "6e0604e0",
   "metadata": {},
   "outputs": [],
   "source": [
    "import numpy as np\n",
    "import matplotlib.pyplot as plt\n",
    "%matplotlib inline\n",
    "import math\n",
    "from scipy import stats as st"
   ]
  },
  {
   "cell_type": "code",
   "execution_count": 3,
   "id": "0bd0390f",
   "metadata": {},
   "outputs": [],
   "source": [
    "a=0.95 # Angular acceptance of the detector. The detected cosine of the polar angle (x) can take the values -a <= x <= a\n",
    "N_MC,NB=10**6,10**4 #Steps in MCMC Metropolis-Hastings algorithm and number of steps in burn-in period"
   ]
  },
  {
   "cell_type": "code",
   "execution_count": 4,
   "id": "d129eac7",
   "metadata": {},
   "outputs": [
    {
     "data": {
      "image/png": "[encoded data removed]",
      "text/plain": [
       "<Figure size 432x288 with 1 Axes>"
      ]
     },
     "metadata": {
      "needs_background": "light"
     },
     "output_type": "display_data"
    }
   ],
   "source": [
    "xData = np.loadtxt('AFB.out')\n",
    "N_events=len(xData)\n",
    "nbin=100\n",
    "y,x,dum=plt.hist(xData, nbin, density=True)\n",
    "plt.xlabel(r'Cos $\\theta$')\n",
    "plt.ylabel('Counts')\n",
    "plt.title('Experimental data')\n",
    "plt.savefig(\"Data.png\")"
   ]
  },
  {
   "cell_type": "code",
   "execution_count": 5,
   "id": "8922b6bd",
   "metadata": {},
   "outputs": [],
   "source": [
    "''' Expected distribution for the angular distribution of the experiment. a_fb (forward-backward asymmetry) and beta are \n",
    "    the free parameters to be determined, and x corresponds to the cosine of the polar angle.'''\n",
    "def AngularDist (x, a_fb, beta, a):\n",
    "    return (1. + 8.*a_fb*x/3. + beta*x**2)/(2.*a*(1. + beta*(a**2)/3.))"
   ]
  },
  {
   "cell_type": "code",
   "execution_count": 6,
   "id": "40d3cb6b",
   "metadata": {},
   "outputs": [],
   "source": [
    "'''Generates the logarithm of the likelihood log L(D|a_fb, beta)= sum(log(x|a_fb,beta)) given the values of a_fb, beta and \n",
    "    a dataset D = {x}. Imposes the prior conditions a_fb € [-3/8, 3/8] and beta > 0. That is, when these conditions are not \n",
    "    fulfilled, the likelihood equals 0.'''\n",
    "def LogPosterior (a_fb, beta, a):\n",
    "    if beta > 0 and abs(a_fb) < 3./8.:\n",
    "        return np.sum(np.log(AngularDist(xData, a_fb, beta, a)))\n",
    "    else:\n",
    "        return -np.inf"
   ]
  },
  {
   "cell_type": "code",
   "execution_count": 7,
   "id": "3fe49218",
   "metadata": {},
   "outputs": [],
   "source": [
    "#sbeta, sa_fb = 1./np.sqrt(N_events), 1./np.sqrt(N_events) # sigma expected for the parameters\n",
    "\n",
    "sbeta, sa_fb = 0.01, 0.01\n",
    "'''Given a value of a_fb and beta, samples from a normal distribution, with a mean equal to these values and some expected\n",
    "    standard deviation. Returns two different values of the parameters.'''\n",
    "def Proposal_dist (a_fb, beta, sa_fb, sbeta): #Symmetric proposal dist\n",
    "    y1=np.random.normal(a_fb, sa_fb)\n",
    "    y2=np.random.normal(beta, sbeta)\n",
    "    return y1,y2"
   ]
  },
  {
   "cell_type": "markdown",
   "id": "5549357b",
   "metadata": {},
   "source": [
    "We will use the Metrplois-Hastings algorithm (a Markov-Chain Monte Carlo method) to sample the posterior PDF, of the parameters given the dataset. "
   ]
  },
  {
   "cell_type": "code",
   "execution_count": 8,
   "id": "ca006bda",
   "metadata": {},
   "outputs": [
    {
     "name": "stdout",
     "output_type": "stream",
     "text": [
      "Wall time: 1min 30s\n"
     ]
    }
   ],
   "source": [
    "%%time\n",
    "'''Markov-Chain Monte Carlo using Metropolis-Hastings algorithm.'''\n",
    "chain=np.empty((N_MC,3)) # inicialize chain (number values MC, dim problem +1), including Likelihood\n",
    "# We start at a random point\n",
    "x1_0,x2_0=0.0,3. #a_fb,beta\n",
    "chain[0]=x1_0,x2_0,LogPosterior(x1_0,x2_0,a)\n",
    "\n",
    "for i in range(N_MC-1):\n",
    "    p1,p2=Proposal_dist(chain[i,0],chain[i,1], sa_fb, sbeta)\n",
    "    logpost=LogPosterior(p1,p2,a)\n",
    "    logratio=logpost-chain[i,2] \n",
    "    if logratio >= 0: #We are looking for the maximum of the pdf\n",
    "        chain[i+1]=p1,p2,logpost\n",
    "    elif logratio > np.log(np.random.random()):\n",
    "        chain[i+1]=p1,p2,logpost\n",
    "    else:\n",
    "        chain[i+1]=chain[i]"
   ]
  },
  {
   "cell_type": "code",
   "execution_count": 9,
   "id": "8134eefd",
   "metadata": {},
   "outputs": [
    {
     "name": "stdout",
     "output_type": "stream",
     "text": [
      "The obtained estimations of the parameters A_fb and beta, corresponding to the sample mean and sample standard deviation of the values obtained by the MCMC method are:\n",
      "A_fb = 0.10217 +- 0.00988\n",
      "Beta = 1.05266 +- 0.06692\n",
      "The correlation coefficient between the two parameters takes the value: r = 0.22396\n"
     ]
    }
   ],
   "source": [
    "chain=chain[NB:]\n",
    "x1,x2=chain[:,0], chain[:,1]\n",
    "print('The obtained estimations of the parameters A_fb and beta, corresponding to the sample mean and sample standard deviation '+\n",
    "      'of the values obtained by the MCMC method are:')\n",
    "print('A_fb = {:.5f} +- {:.5f}'.format(x1.mean(),x1.std(ddof=1)))\n",
    "print('Beta = {:.5f} +- {:.5f}'.format(x2.mean(),x2.std(ddof=1)))\n",
    "print('The correlation coefficient between the two parameters takes the value: r = {:.5f}'.format(np.corrcoef(x1,x2)[0,1]))"
   ]
  },
  {
   "cell_type": "markdown",
   "id": "f3d88f5a",
   "metadata": {},
   "source": [
    "The 2D scatter plot $A_{FB}$ vs. $\\beta$ has the form."
   ]
  },
  {
   "cell_type": "code",
   "execution_count": 10,
   "id": "b7eda19d",
   "metadata": {},
   "outputs": [
    {
     "data": {
      "image/png": "[encoded data removed]",
      "text/plain": [
       "<Figure size 432x288 with 1 Axes>"
      ]
     },
     "metadata": {
      "needs_background": "light"
     },
     "output_type": "display_data"
    }
   ],
   "source": [
    "plt.scatter(x1,x2)\n",
    "plt.xlabel(r'$A_{fb}$')\n",
    "plt.ylabel('Beta')\n",
    "plt.title('Metroplis-Hastings simulated data')\n",
    "plt.savefig(\"2Dscatter.png\")"
   ]
  },
  {
   "cell_type": "markdown",
   "id": "ae2dcc37",
   "metadata": {},
   "source": [
    "Plotting the one-dimensional histograms for the variables $A_{FB}$ and $\\beta$, one can see that they follow a Gaussian distribution."
   ]
  },
  {
   "cell_type": "code",
   "execution_count": 11,
   "id": "84bf93d4",
   "metadata": {},
   "outputs": [],
   "source": [
    "'''Given a value x, a mean and a standard deviation, returns the corresponding value of y following a gaussian distribution\n",
    "   with that mean and standard deviation.'''\n",
    "def gaussian(x,mean,std):\n",
    "    return (1./(np.sqrt(2*math.pi)*std))*np.exp(-(x-mean)**2/(2*std**2))"
   ]
  },
  {
   "cell_type": "code",
   "execution_count": 12,
   "id": "0276bc6c",
   "metadata": {},
   "outputs": [
    {
     "data": {
      "image/png": "[encoded data removed]",
      "text/plain": [
       "<Figure size 432x288 with 1 Axes>"
      ]
     },
     "metadata": {
      "needs_background": "light"
     },
     "output_type": "display_data"
    }
   ],
   "source": [
    "'''Represents the values of the parameter A_fb obtained with the metropolis-hastings algorithm in a histogram. \n",
    "    Compares with a Gaussian distribution with a mean and standard deviation equal to the ones of the results of \n",
    "    the metropolis-hastings algorithm.'''\n",
    "values1,bins1,dum1=plt.hist(x1, nbin, density=True)\n",
    "x=np.linspace(bins1[0],bins1[-1],100)\n",
    "plt.plot(x, gaussian(x,x1.mean(),x1.std(ddof=1)))\n",
    "plt.xlabel(r'$A_{fb}$')\n",
    "plt.ylabel('Counts')\n",
    "plt.savefig(\"1Da.png\")"
   ]
  },
  {
   "cell_type": "markdown",
   "id": "8d9f5187",
   "metadata": {},
   "source": [
    "The Gaussian distribution fits the histogram for the sampling of the PDF for the parameter $A_{FB}$."
   ]
  },
  {
   "cell_type": "code",
   "execution_count": 13,
   "id": "b7c9f2f4",
   "metadata": {},
   "outputs": [
    {
     "data": {
      "image/png": "[encoded data removed]",
      "text/plain": [
       "<Figure size 432x288 with 1 Axes>"
      ]
     },
     "metadata": {
      "needs_background": "light"
     },
     "output_type": "display_data"
    }
   ],
   "source": [
    "'''Represents the values of the parameter beta obtained with the metropolis-hastings algorithm in a histogram. \n",
    "    Compares with a Gaussian distribution with a mean and standard deviation equal to the ones of the results of \n",
    "    the metropolis-hastings algorithm.'''\n",
    "values2,bins2,dum2=plt.hist(x2,nbin,density=True)\n",
    "x=np.linspace(bins2[0],bins2[-1],100)\n",
    "plt.plot(x, gaussian(x,x2.mean(),x2.std(ddof=1)))\n",
    "plt.xlabel(r'$\\beta$')\n",
    "plt.ylabel('Counts')\n",
    "plt.savefig(\"1Db.png\")"
   ]
  },
  {
   "cell_type": "markdown",
   "id": "d8c0a4b2",
   "metadata": {},
   "source": [
    "The Gaussian distribution fits the histogram for the sampling of the PDF for the parameter $\\beta$."
   ]
  },
  {
   "cell_type": "markdown",
   "id": "905eccce",
   "metadata": {},
   "source": [
    "Now we compute the mode, median and the two 68% CL intervals centered in both values. We will do it using the arrays obtained when plotting the histograms: the limits of the bins and the counts for each bin. Since we generated a normalized histogram, the area below the curve is equal to 1.\n"
   ]
  },
  {
   "cell_type": "code",
   "execution_count": 14,
   "id": "ea02c422",
   "metadata": {},
   "outputs": [],
   "source": [
    "# Width of the bins in each histogram\n",
    "bin_width1 = [bins1[i+1]-bins1[i] for i in range(0,len(bins1)-1)]\n",
    "bin_width2 = [bins2[i+1]-bins2[i] for i in range(0,len(bins2)-1)]"
   ]
  },
  {
   "cell_type": "code",
   "execution_count": 15,
   "id": "bb1362d4",
   "metadata": {},
   "outputs": [],
   "source": [
    "'''Returns the value of the median and the 68% CL interval around it.'''\n",
    "def CL(values, bins, width, var):\n",
    "    if var == 'median':\n",
    "        cumulative = np.cumsum(values)/np.max(np.cumsum(values))\n",
    "        index = np.where(cumulative > 0.5)[0][0]\n",
    "    elif var == \"mode\":\n",
    "        index = np.argmax(values)\n",
    "    else:\n",
    "        print('This is not a valid type of variable for the central value.')\n",
    "    \n",
    "    central_value = (bins[index+1]+bins[index])/2.\n",
    "    \n",
    "    print('The value of the {} is: {:.5f} '.format(var,central_value))\n",
    "    \n",
    "    CL=values[index]*width[index]\n",
    "    count=0    \n",
    "    while CL < 0.68:\n",
    "        count+=1\n",
    "        CL += values[index+count]*width[index+count] + values[index-count]*width[index-count]\n",
    "        \n",
    "    low_limit = bins[index-1-count]\n",
    "    up_limit = bins[index + count]\n",
    "    interval=(low_limit, up_limit)\n",
    "    \n",
    "    print('Its 68% CL interval is: ({:.5f}, {:.5f})'.format(low_limit, up_limit))\n",
    "    \n",
    "    return central_value, interval"
   ]
  },
  {
   "cell_type": "code",
   "execution_count": 16,
   "id": "9de99a51",
   "metadata": {},
   "outputs": [
    {
     "name": "stdout",
     "output_type": "stream",
     "text": [
      "For the variable A_fb.\n",
      "The value of the median is: 0.10215 \n",
      "Its 68% CL interval is: (0.09061, 0.11184)\n",
      "The value of the mode is: 0.10122 \n",
      "Its 68% CL interval is: (0.08968, 0.11092)\n",
      "\n",
      "\n",
      "For the variable beta.\n",
      "The value of the median is: 1.05394 \n",
      "Its 68% CL interval is: (0.97850, 1.11820)\n",
      "The value of the mode is: 1.05394 \n",
      "Its 68% CL interval is: (0.97850, 1.11820)\n"
     ]
    }
   ],
   "source": [
    "print('For the variable A_fb.')\n",
    "median1, CL_median1 = CL(values1, bins1, bin_width1, 'median')\n",
    "mode1, CL_mode1 = CL(values1, bins1, bin_width1, 'mode')\n",
    "print('\\n')\n",
    "print('For the variable beta.')\n",
    "median2, CL_median2 = CL(values2, bins2, bin_width2, 'median')\n",
    "mode2, CL_mode2 = CL(values2, bins2, bin_width2, 'mode')"
   ]
  },
  {
   "cell_type": "code",
   "execution_count": 17,
   "id": "e53ca6e0",
   "metadata": {},
   "outputs": [
    {
     "data": {
      "image/png": "[encoded data removed]",
      "text/plain": [
       "<Figure size 432x288 with 1 Axes>"
      ]
     },
     "metadata": {
      "needs_background": "light"
     },
     "output_type": "display_data"
    }
   ],
   "source": [
    "nbin=100\n",
    "y,x,dum=plt.hist(xData, nbin, density=True)\n",
    "plt.xlabel(r'Cos $\\theta$')\n",
    "plt.ylabel('Counts')\n",
    "plt.title('Experimental data')\n",
    "xs=np.linspace(-0.95,0.95,50)\n",
    "plt.plot(xs,AngularDist (xs, x1.mean(), x2.mean(), 0.95))\n",
    "plt.savefig(\"Data+fit.png\")"
   ]
  },
  {
   "cell_type": "code",
   "execution_count": null,
   "id": "f183df5d",
   "metadata": {},
   "outputs": [],
   "source": []
  }
 ],
 "metadata": {
  "kernelspec": {
   "display_name": "Python 3 (ipykernel)",
   "language": "python",
   "name": "python3"
  },
  "language_info": {
   "codemirror_mode": {
    "name": "ipython",
    "version": 3
   },
   "file_extension": ".py",
   "mimetype": "text/x-python",
   "name": "python",
   "nbconvert_exporter": "python",
   "pygments_lexer": "ipython3",
   "version": "3.9.7"
  }
 },
 "nbformat": 4,
 "nbformat_minor": 5
}
